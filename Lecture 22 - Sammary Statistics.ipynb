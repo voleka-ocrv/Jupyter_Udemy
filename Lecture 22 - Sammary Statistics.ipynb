{
 "cells": [
  {
   "cell_type": "code",
   "execution_count": 2,
   "metadata": {},
   "outputs": [],
   "source": [
    "import numpy as np\n",
    "from pandas import Series, DataFrame\n",
    "import pandas as pd"
   ]
  },
  {
   "cell_type": "code",
   "execution_count": 3,
   "metadata": {},
   "outputs": [],
   "source": [
    "arr = np.array([[1,2,np.nan],[np.nan,3,4]])"
   ]
  },
  {
   "cell_type": "code",
   "execution_count": 12,
   "metadata": {},
   "outputs": [
    {
     "data": {
      "text/html": [
       "<div>\n",
       "<style scoped>\n",
       "    .dataframe tbody tr th:only-of-type {\n",
       "        vertical-align: middle;\n",
       "    }\n",
       "\n",
       "    .dataframe tbody tr th {\n",
       "        vertical-align: top;\n",
       "    }\n",
       "\n",
       "    .dataframe thead th {\n",
       "        text-align: right;\n",
       "    }\n",
       "</style>\n",
       "<table border=\"1\" class=\"dataframe\">\n",
       "  <thead>\n",
       "    <tr style=\"text-align: right;\">\n",
       "      <th></th>\n",
       "      <th>One</th>\n",
       "      <th>Two</th>\n",
       "      <th>Three</th>\n",
       "    </tr>\n",
       "  </thead>\n",
       "  <tbody>\n",
       "    <tr>\n",
       "      <td>A</td>\n",
       "      <td>1.0</td>\n",
       "      <td>2.0</td>\n",
       "      <td>NaN</td>\n",
       "    </tr>\n",
       "    <tr>\n",
       "      <td>B</td>\n",
       "      <td>NaN</td>\n",
       "      <td>3.0</td>\n",
       "      <td>4.0</td>\n",
       "    </tr>\n",
       "  </tbody>\n",
       "</table>\n",
       "</div>"
      ],
      "text/plain": [
       "   One  Two  Three\n",
       "A  1.0  2.0    NaN\n",
       "B  NaN  3.0    4.0"
      ]
     },
     "execution_count": 12,
     "metadata": {},
     "output_type": "execute_result"
    }
   ],
   "source": [
    "dframe1 = DataFrame(arr, index=['A','B'], columns = ['One','Two','Three'])\n",
    "dframe1"
   ]
  },
  {
   "cell_type": "code",
   "execution_count": 10,
   "metadata": {},
   "outputs": [
    {
     "data": {
      "text/plain": [
       "One      1.0\n",
       "Two      5.0\n",
       "Three    4.0\n",
       "dtype: float64"
      ]
     },
     "execution_count": 10,
     "metadata": {},
     "output_type": "execute_result"
    }
   ],
   "source": [
    "dframe1.sum()"
   ]
  },
  {
   "cell_type": "code",
   "execution_count": 11,
   "metadata": {},
   "outputs": [
    {
     "data": {
      "text/plain": [
       "One      1.0\n",
       "Two      2.0\n",
       "Three    4.0\n",
       "dtype: float64"
      ]
     },
     "execution_count": 11,
     "metadata": {},
     "output_type": "execute_result"
    }
   ],
   "source": [
    "dframe1.min()"
   ]
  },
  {
   "cell_type": "code",
   "execution_count": 13,
   "metadata": {},
   "outputs": [
    {
     "data": {
      "text/plain": [
       "One      A\n",
       "Two      A\n",
       "Three    B\n",
       "dtype: object"
      ]
     },
     "execution_count": 13,
     "metadata": {},
     "output_type": "execute_result"
    }
   ],
   "source": [
    "dframe1.idxmin()"
   ]
  },
  {
   "cell_type": "code",
   "execution_count": 14,
   "metadata": {},
   "outputs": [
    {
     "data": {
      "text/html": [
       "<div>\n",
       "<style scoped>\n",
       "    .dataframe tbody tr th:only-of-type {\n",
       "        vertical-align: middle;\n",
       "    }\n",
       "\n",
       "    .dataframe tbody tr th {\n",
       "        vertical-align: top;\n",
       "    }\n",
       "\n",
       "    .dataframe thead th {\n",
       "        text-align: right;\n",
       "    }\n",
       "</style>\n",
       "<table border=\"1\" class=\"dataframe\">\n",
       "  <thead>\n",
       "    <tr style=\"text-align: right;\">\n",
       "      <th></th>\n",
       "      <th>One</th>\n",
       "      <th>Two</th>\n",
       "      <th>Three</th>\n",
       "    </tr>\n",
       "  </thead>\n",
       "  <tbody>\n",
       "    <tr>\n",
       "      <td>A</td>\n",
       "      <td>1.0</td>\n",
       "      <td>2.0</td>\n",
       "      <td>NaN</td>\n",
       "    </tr>\n",
       "    <tr>\n",
       "      <td>B</td>\n",
       "      <td>NaN</td>\n",
       "      <td>5.0</td>\n",
       "      <td>4.0</td>\n",
       "    </tr>\n",
       "  </tbody>\n",
       "</table>\n",
       "</div>"
      ],
      "text/plain": [
       "   One  Two  Three\n",
       "A  1.0  2.0    NaN\n",
       "B  NaN  5.0    4.0"
      ]
     },
     "execution_count": 14,
     "metadata": {},
     "output_type": "execute_result"
    }
   ],
   "source": [
    "dframe1.cumsum()"
   ]
  },
  {
   "cell_type": "code",
   "execution_count": 15,
   "metadata": {},
   "outputs": [
    {
     "data": {
      "text/html": [
       "<div>\n",
       "<style scoped>\n",
       "    .dataframe tbody tr th:only-of-type {\n",
       "        vertical-align: middle;\n",
       "    }\n",
       "\n",
       "    .dataframe tbody tr th {\n",
       "        vertical-align: top;\n",
       "    }\n",
       "\n",
       "    .dataframe thead th {\n",
       "        text-align: right;\n",
       "    }\n",
       "</style>\n",
       "<table border=\"1\" class=\"dataframe\">\n",
       "  <thead>\n",
       "    <tr style=\"text-align: right;\">\n",
       "      <th></th>\n",
       "      <th>One</th>\n",
       "      <th>Two</th>\n",
       "      <th>Three</th>\n",
       "    </tr>\n",
       "  </thead>\n",
       "  <tbody>\n",
       "    <tr>\n",
       "      <td>count</td>\n",
       "      <td>1.0</td>\n",
       "      <td>2.000000</td>\n",
       "      <td>1.0</td>\n",
       "    </tr>\n",
       "    <tr>\n",
       "      <td>mean</td>\n",
       "      <td>1.0</td>\n",
       "      <td>2.500000</td>\n",
       "      <td>4.0</td>\n",
       "    </tr>\n",
       "    <tr>\n",
       "      <td>std</td>\n",
       "      <td>NaN</td>\n",
       "      <td>0.707107</td>\n",
       "      <td>NaN</td>\n",
       "    </tr>\n",
       "    <tr>\n",
       "      <td>min</td>\n",
       "      <td>1.0</td>\n",
       "      <td>2.000000</td>\n",
       "      <td>4.0</td>\n",
       "    </tr>\n",
       "    <tr>\n",
       "      <td>25%</td>\n",
       "      <td>1.0</td>\n",
       "      <td>2.250000</td>\n",
       "      <td>4.0</td>\n",
       "    </tr>\n",
       "    <tr>\n",
       "      <td>50%</td>\n",
       "      <td>1.0</td>\n",
       "      <td>2.500000</td>\n",
       "      <td>4.0</td>\n",
       "    </tr>\n",
       "    <tr>\n",
       "      <td>75%</td>\n",
       "      <td>1.0</td>\n",
       "      <td>2.750000</td>\n",
       "      <td>4.0</td>\n",
       "    </tr>\n",
       "    <tr>\n",
       "      <td>max</td>\n",
       "      <td>1.0</td>\n",
       "      <td>3.000000</td>\n",
       "      <td>4.0</td>\n",
       "    </tr>\n",
       "  </tbody>\n",
       "</table>\n",
       "</div>"
      ],
      "text/plain": [
       "       One       Two  Three\n",
       "count  1.0  2.000000    1.0\n",
       "mean   1.0  2.500000    4.0\n",
       "std    NaN  0.707107    NaN\n",
       "min    1.0  2.000000    4.0\n",
       "25%    1.0  2.250000    4.0\n",
       "50%    1.0  2.500000    4.0\n",
       "75%    1.0  2.750000    4.0\n",
       "max    1.0  3.000000    4.0"
      ]
     },
     "execution_count": 15,
     "metadata": {},
     "output_type": "execute_result"
    }
   ],
   "source": [
    "dframe1.describe()"
   ]
  },
  {
   "cell_type": "code",
   "execution_count": 16,
   "metadata": {},
   "outputs": [],
   "source": [
    "from IPython.display import YouTubeVideo"
   ]
  },
  {
   "cell_type": "code",
   "execution_count": 18,
   "metadata": {},
   "outputs": [
    {
     "data": {
      "image/jpeg": "[encoded data removed]",
      "text/html": [
       "\n",
       "        <iframe\n",
       "            width=\"400\"\n",
       "            height=\"300\"\n",
       "            src=\"https://www.youtube.com/embed/xGbpuFNR1ME\"\n",
       "            frameborder=\"0\"\n",
       "            allowfullscreen\n",
       "        ></iframe>\n",
       "        "
      ],
      "text/plain": [
       "<IPython.lib.display.YouTubeVideo at 0x1e8fa3818c8>"
      ]
     },
     "execution_count": 18,
     "metadata": {},
     "output_type": "execute_result"
    }
   ],
   "source": [
    "YouTubeVideo('xGbpuFNR1ME')"
   ]
  },
  {
   "cell_type": "code",
   "execution_count": 26,
   "metadata": {},
   "outputs": [
    {
     "name": "stdout",
     "output_type": "stream",
     "text": [
      "Collecting pandas-datareader\n",
      "  Downloading https://files.pythonhosted.org/packages/14/52/accb990baebe0063977f26e02df36aa7eb4015ed4e86f828cd76273cd6f1/pandas_datareader-0.8.1-py2.py3-none-any.whl (107kB)\n",
      "Requirement already satisfied: pandas>=0.21 in c:\\programdata\\anaconda3\\lib\\site-packages (from pandas-datareader) (0.25.1)\n",
      "Requirement already satisfied: lxml in c:\\programdata\\anaconda3\\lib\\site-packages (from pandas-datareader) (4.4.1)\n",
      "Requirement already satisfied: requests>=2.3.0 in c:\\programdata\\anaconda3\\lib\\site-packages (from pandas-datareader) (2.22.0)\n",
      "Requirement already satisfied: pytz>=2017.2 in c:\\programdata\\anaconda3\\lib\\site-packages (from pandas>=0.21->pandas-datareader) (2019.3)\n",
      "Requirement already satisfied: numpy>=1.13.3 in c:\\programdata\\anaconda3\\lib\\site-packages (from pandas>=0.21->pandas-datareader) (1.16.5)\n",
      "Requirement already satisfied: python-dateutil>=2.6.1 in c:\\programdata\\anaconda3\\lib\\site-packages (from pandas>=0.21->pandas-datareader) (2.8.0)\n",
      "Requirement already satisfied: idna<2.9,>=2.5 in c:\\programdata\\anaconda3\\lib\\site-packages (from requests>=2.3.0->pandas-datareader) (2.8)\n",
      "Requirement already satisfied: certifi>=2017.4.17 in c:\\programdata\\anaconda3\\lib\\site-packages (from requests>=2.3.0->pandas-datareader) (2019.9.11)\n",
      "Requirement already satisfied: urllib3!=1.25.0,!=1.25.1,<1.26,>=1.21.1 in c:\\programdata\\anaconda3\\lib\\site-packages (from requests>=2.3.0->pandas-datareader) (1.24.2)\n",
      "Requirement already satisfied: chardet<3.1.0,>=3.0.2 in c:\\programdata\\anaconda3\\lib\\site-packages (from requests>=2.3.0->pandas-datareader) (3.0.4)\n",
      "Requirement already satisfied: six>=1.5 in c:\\programdata\\anaconda3\\lib\\site-packages (from python-dateutil>=2.6.1->pandas>=0.21->pandas-datareader) (1.12.0)\n",
      "Installing collected packages: pandas-datareader\n",
      "Successfully installed pandas-datareader-0.8.1\n"
     ]
    }
   ],
   "source": [
    "! pip install pandas-datareader"
   ]
  },
  {
   "cell_type": "code",
   "execution_count": 46,
   "metadata": {},
   "outputs": [],
   "source": [
    "import pandas as pd\n",
    "import pandas_datareader as dr\n",
    "import datetime\n",
    "from pandas_datareader import wb"
   ]
  },
  {
   "cell_type": "code",
   "execution_count": 51,
   "metadata": {},
   "outputs": [],
   "source": [
    "begin_of_period = datetime.datetime(2020,1,15)\n",
    "end_of_period = datetime.datetime(2020,1,16)"
   ]
  },
  {
   "cell_type": "code",
   "execution_count": 52,
   "metadata": {},
   "outputs": [
    {
     "data": {
      "text/plain": [
       "pandas_datareader.wb.WorldBankReader"
      ]
     },
     "execution_count": 52,
     "metadata": {},
     "output_type": "execute_result"
    }
   ],
   "source": [
    "prices = dr.wb.WorldBankReader(start=begin_of_period, end=end_of_period)\n",
    "type(prices)"
   ]
  },
  {
   "cell_type": "code",
   "execution_count": 58,
   "metadata": {},
   "outputs": [
    {
     "data": {
      "text/html": [
       "<div>\n",
       "<style scoped>\n",
       "    .dataframe tbody tr th:only-of-type {\n",
       "        vertical-align: middle;\n",
       "    }\n",
       "\n",
       "    .dataframe tbody tr th {\n",
       "        vertical-align: top;\n",
       "    }\n",
       "\n",
       "    .dataframe thead th {\n",
       "        text-align: right;\n",
       "    }\n",
       "</style>\n",
       "<table border=\"1\" class=\"dataframe\">\n",
       "  <thead>\n",
       "    <tr style=\"text-align: right;\">\n",
       "      <th></th>\n",
       "      <th>id</th>\n",
       "      <th>name</th>\n",
       "      <th>unit</th>\n",
       "      <th>source</th>\n",
       "      <th>sourceNote</th>\n",
       "      <th>sourceOrganization</th>\n",
       "      <th>topics</th>\n",
       "    </tr>\n",
       "  </thead>\n",
       "  <tbody>\n",
       "    <tr>\n",
       "      <td>0</td>\n",
       "      <td>1.0.HCount.1.90usd</td>\n",
       "      <td>Poverty Headcount ($1.90 a day)</td>\n",
       "      <td></td>\n",
       "      <td>LAC Equity Lab</td>\n",
       "      <td>The poverty headcount index measures the propo...</td>\n",
       "      <td>b'LAC Equity Lab tabulations of SEDLAC (CEDLAS...</td>\n",
       "      <td>Poverty</td>\n",
       "    </tr>\n",
       "    <tr>\n",
       "      <td>1</td>\n",
       "      <td>1.0.HCount.2.5usd</td>\n",
       "      <td>Poverty Headcount ($2.50 a day)</td>\n",
       "      <td></td>\n",
       "      <td>LAC Equity Lab</td>\n",
       "      <td>The poverty headcount index measures the propo...</td>\n",
       "      <td>b'LAC Equity Lab tabulations of SEDLAC (CEDLAS...</td>\n",
       "      <td>Poverty</td>\n",
       "    </tr>\n",
       "    <tr>\n",
       "      <td>2</td>\n",
       "      <td>1.0.HCount.Mid10to50</td>\n",
       "      <td>Middle Class ($10-50 a day) Headcount</td>\n",
       "      <td></td>\n",
       "      <td>LAC Equity Lab</td>\n",
       "      <td>The poverty headcount index measures the propo...</td>\n",
       "      <td>b'LAC Equity Lab tabulations of SEDLAC (CEDLAS...</td>\n",
       "      <td>Poverty</td>\n",
       "    </tr>\n",
       "    <tr>\n",
       "      <td>3</td>\n",
       "      <td>1.0.HCount.Ofcl</td>\n",
       "      <td>Official Moderate Poverty Rate-National</td>\n",
       "      <td></td>\n",
       "      <td>LAC Equity Lab</td>\n",
       "      <td>The poverty headcount index measures the propo...</td>\n",
       "      <td>b'LAC Equity Lab tabulations of data from Nati...</td>\n",
       "      <td>Poverty</td>\n",
       "    </tr>\n",
       "    <tr>\n",
       "      <td>4</td>\n",
       "      <td>1.0.HCount.Poor4uds</td>\n",
       "      <td>Poverty Headcount ($4 a day)</td>\n",
       "      <td></td>\n",
       "      <td>LAC Equity Lab</td>\n",
       "      <td>The poverty headcount index measures the propo...</td>\n",
       "      <td>b'LAC Equity Lab tabulations of SEDLAC (CEDLAS...</td>\n",
       "      <td>Poverty</td>\n",
       "    </tr>\n",
       "    <tr>\n",
       "      <td>...</td>\n",
       "      <td>...</td>\n",
       "      <td>...</td>\n",
       "      <td>...</td>\n",
       "      <td>...</td>\n",
       "      <td>...</td>\n",
       "      <td>...</td>\n",
       "      <td>...</td>\n",
       "    </tr>\n",
       "    <tr>\n",
       "      <td>17323</td>\n",
       "      <td>per_sionl.overlap_q1_tot</td>\n",
       "      <td>Population in the 1st quintile (poorest) only ...</td>\n",
       "      <td></td>\n",
       "      <td>The Atlas of Social Protection: Indicators of ...</td>\n",
       "      <td>NULL</td>\n",
       "      <td>b'The Atlas of Social Protection: Indicators o...</td>\n",
       "      <td>Social Protection &amp; Labor</td>\n",
       "    </tr>\n",
       "    <tr>\n",
       "      <td>17324</td>\n",
       "      <td>per_sionl.overlap_q1_urb</td>\n",
       "      <td>Population in the 1st quintile (poorest) only ...</td>\n",
       "      <td></td>\n",
       "      <td>The Atlas of Social Protection: Indicators of ...</td>\n",
       "      <td>NULL</td>\n",
       "      <td>b'The Atlas of Social Protection: Indicators o...</td>\n",
       "      <td>Social Protection &amp; Labor</td>\n",
       "    </tr>\n",
       "    <tr>\n",
       "      <td>17325</td>\n",
       "      <td>s_loans_A1</td>\n",
       "      <td>Outstanding loans per 1,000 adults</td>\n",
       "      <td></td>\n",
       "      <td>G20 Financial Inclusion Indicators</td>\n",
       "      <td></td>\n",
       "      <td>b''</td>\n",
       "      <td></td>\n",
       "    </tr>\n",
       "    <tr>\n",
       "      <td>17326</td>\n",
       "      <td>s_policyholders_B2_life</td>\n",
       "      <td>Insurance policy holders per 1,000 adults (life)</td>\n",
       "      <td></td>\n",
       "      <td>G20 Financial Inclusion Indicators</td>\n",
       "      <td>Denotes the total number of life insurance pol...</td>\n",
       "      <td>b'International Monetary Fund, Financial Acces...</td>\n",
       "      <td></td>\n",
       "    </tr>\n",
       "    <tr>\n",
       "      <td>17327</td>\n",
       "      <td>s_policyholders_B2_nonlife</td>\n",
       "      <td>Insurance policy holders per 1,000 adults (non...</td>\n",
       "      <td></td>\n",
       "      <td>G20 Financial Inclusion Indicators</td>\n",
       "      <td>Denotes the total number of non-life insurance...</td>\n",
       "      <td>b'International Monetary Fund, Financial Acces...</td>\n",
       "      <td></td>\n",
       "    </tr>\n",
       "  </tbody>\n",
       "</table>\n",
       "<p>17328 rows × 7 columns</p>\n",
       "</div>"
      ],
      "text/plain": [
       "                               id  \\\n",
       "0              1.0.HCount.1.90usd   \n",
       "1               1.0.HCount.2.5usd   \n",
       "2            1.0.HCount.Mid10to50   \n",
       "3                 1.0.HCount.Ofcl   \n",
       "4             1.0.HCount.Poor4uds   \n",
       "...                           ...   \n",
       "17323    per_sionl.overlap_q1_tot   \n",
       "17324    per_sionl.overlap_q1_urb   \n",
       "17325                  s_loans_A1   \n",
       "17326     s_policyholders_B2_life   \n",
       "17327  s_policyholders_B2_nonlife   \n",
       "\n",
       "                                                    name unit  \\\n",
       "0                        Poverty Headcount ($1.90 a day)        \n",
       "1                        Poverty Headcount ($2.50 a day)        \n",
       "2                  Middle Class ($10-50 a day) Headcount        \n",
       "3                Official Moderate Poverty Rate-National        \n",
       "4                           Poverty Headcount ($4 a day)        \n",
       "...                                                  ...  ...   \n",
       "17323  Population in the 1st quintile (poorest) only ...        \n",
       "17324  Population in the 1st quintile (poorest) only ...        \n",
       "17325                 Outstanding loans per 1,000 adults        \n",
       "17326   Insurance policy holders per 1,000 adults (life)        \n",
       "17327  Insurance policy holders per 1,000 adults (non...        \n",
       "\n",
       "                                                  source  \\\n",
       "0                                         LAC Equity Lab   \n",
       "1                                         LAC Equity Lab   \n",
       "2                                         LAC Equity Lab   \n",
       "3                                         LAC Equity Lab   \n",
       "4                                         LAC Equity Lab   \n",
       "...                                                  ...   \n",
       "17323  The Atlas of Social Protection: Indicators of ...   \n",
       "17324  The Atlas of Social Protection: Indicators of ...   \n",
       "17325                 G20 Financial Inclusion Indicators   \n",
       "17326                 G20 Financial Inclusion Indicators   \n",
       "17327                 G20 Financial Inclusion Indicators   \n",
       "\n",
       "                                              sourceNote  \\\n",
       "0      The poverty headcount index measures the propo...   \n",
       "1      The poverty headcount index measures the propo...   \n",
       "2      The poverty headcount index measures the propo...   \n",
       "3      The poverty headcount index measures the propo...   \n",
       "4      The poverty headcount index measures the propo...   \n",
       "...                                                  ...   \n",
       "17323                                               NULL   \n",
       "17324                                               NULL   \n",
       "17325                                                      \n",
       "17326  Denotes the total number of life insurance pol...   \n",
       "17327  Denotes the total number of non-life insurance...   \n",
       "\n",
       "                                      sourceOrganization  \\\n",
       "0      b'LAC Equity Lab tabulations of SEDLAC (CEDLAS...   \n",
       "1      b'LAC Equity Lab tabulations of SEDLAC (CEDLAS...   \n",
       "2      b'LAC Equity Lab tabulations of SEDLAC (CEDLAS...   \n",
       "3      b'LAC Equity Lab tabulations of data from Nati...   \n",
       "4      b'LAC Equity Lab tabulations of SEDLAC (CEDLAS...   \n",
       "...                                                  ...   \n",
       "17323  b'The Atlas of Social Protection: Indicators o...   \n",
       "17324  b'The Atlas of Social Protection: Indicators o...   \n",
       "17325                                                b''   \n",
       "17326  b'International Monetary Fund, Financial Acces...   \n",
       "17327  b'International Monetary Fund, Financial Acces...   \n",
       "\n",
       "                          topics  \n",
       "0                       Poverty   \n",
       "1                       Poverty   \n",
       "2                       Poverty   \n",
       "3                       Poverty   \n",
       "4                       Poverty   \n",
       "...                          ...  \n",
       "17323  Social Protection & Labor  \n",
       "17324  Social Protection & Labor  \n",
       "17325                             \n",
       "17326                             \n",
       "17327                             \n",
       "\n",
       "[17328 rows x 7 columns]"
      ]
     },
     "execution_count": 58,
     "metadata": {},
     "output_type": "execute_result"
    }
   ],
   "source": [
    "prices.get_indicators()"
   ]
  },
  {
   "cell_type": "code",
   "execution_count": 67,
   "metadata": {},
   "outputs": [
    {
     "data": {
      "text/html": [
       "<div>\n",
       "<style scoped>\n",
       "    .dataframe tbody tr th:only-of-type {\n",
       "        vertical-align: middle;\n",
       "    }\n",
       "\n",
       "    .dataframe tbody tr th {\n",
       "        vertical-align: top;\n",
       "    }\n",
       "\n",
       "    .dataframe thead th {\n",
       "        text-align: right;\n",
       "    }\n",
       "</style>\n",
       "<table border=\"1\" class=\"dataframe\">\n",
       "  <thead>\n",
       "    <tr style=\"text-align: right;\">\n",
       "      <th></th>\n",
       "      <th>iso3c</th>\n",
       "      <th>iso2c</th>\n",
       "      <th>name</th>\n",
       "      <th>region</th>\n",
       "      <th>adminregion</th>\n",
       "      <th>incomeLevel</th>\n",
       "      <th>lendingType</th>\n",
       "      <th>capitalCity</th>\n",
       "      <th>longitude</th>\n",
       "      <th>latitude</th>\n",
       "    </tr>\n",
       "  </thead>\n",
       "  <tbody>\n",
       "    <tr>\n",
       "      <td>0</td>\n",
       "      <td>ABW</td>\n",
       "      <td>AW</td>\n",
       "      <td>Aruba</td>\n",
       "      <td>Latin America &amp; Caribbean</td>\n",
       "      <td></td>\n",
       "      <td>High income</td>\n",
       "      <td>Not classified</td>\n",
       "      <td>Oranjestad</td>\n",
       "      <td>-70.0167</td>\n",
       "      <td>12.51670</td>\n",
       "    </tr>\n",
       "    <tr>\n",
       "      <td>1</td>\n",
       "      <td>AFG</td>\n",
       "      <td>AF</td>\n",
       "      <td>Afghanistan</td>\n",
       "      <td>South Asia</td>\n",
       "      <td>South Asia</td>\n",
       "      <td>Low income</td>\n",
       "      <td>IDA</td>\n",
       "      <td>Kabul</td>\n",
       "      <td>69.1761</td>\n",
       "      <td>34.52280</td>\n",
       "    </tr>\n",
       "    <tr>\n",
       "      <td>2</td>\n",
       "      <td>AFR</td>\n",
       "      <td>A9</td>\n",
       "      <td>Africa</td>\n",
       "      <td>Aggregates</td>\n",
       "      <td></td>\n",
       "      <td>Aggregates</td>\n",
       "      <td>Aggregates</td>\n",
       "      <td></td>\n",
       "      <td>NaN</td>\n",
       "      <td>NaN</td>\n",
       "    </tr>\n",
       "    <tr>\n",
       "      <td>3</td>\n",
       "      <td>AGO</td>\n",
       "      <td>AO</td>\n",
       "      <td>Angola</td>\n",
       "      <td>Sub-Saharan Africa</td>\n",
       "      <td>Sub-Saharan Africa (excluding high income)</td>\n",
       "      <td>Lower middle income</td>\n",
       "      <td>IBRD</td>\n",
       "      <td>Luanda</td>\n",
       "      <td>13.2420</td>\n",
       "      <td>-8.81155</td>\n",
       "    </tr>\n",
       "    <tr>\n",
       "      <td>4</td>\n",
       "      <td>ALB</td>\n",
       "      <td>AL</td>\n",
       "      <td>Albania</td>\n",
       "      <td>Europe &amp; Central Asia</td>\n",
       "      <td>Europe &amp; Central Asia (excluding high income)</td>\n",
       "      <td>Upper middle income</td>\n",
       "      <td>IBRD</td>\n",
       "      <td>Tirane</td>\n",
       "      <td>19.8172</td>\n",
       "      <td>41.33170</td>\n",
       "    </tr>\n",
       "    <tr>\n",
       "      <td>...</td>\n",
       "      <td>...</td>\n",
       "      <td>...</td>\n",
       "      <td>...</td>\n",
       "      <td>...</td>\n",
       "      <td>...</td>\n",
       "      <td>...</td>\n",
       "      <td>...</td>\n",
       "      <td>...</td>\n",
       "      <td>...</td>\n",
       "      <td>...</td>\n",
       "    </tr>\n",
       "    <tr>\n",
       "      <td>299</td>\n",
       "      <td>XZN</td>\n",
       "      <td>A5</td>\n",
       "      <td>Sub-Saharan Africa excluding South Africa and ...</td>\n",
       "      <td>Aggregates</td>\n",
       "      <td></td>\n",
       "      <td>Aggregates</td>\n",
       "      <td>Aggregates</td>\n",
       "      <td></td>\n",
       "      <td>NaN</td>\n",
       "      <td>NaN</td>\n",
       "    </tr>\n",
       "    <tr>\n",
       "      <td>300</td>\n",
       "      <td>YEM</td>\n",
       "      <td>YE</td>\n",
       "      <td>Yemen, Rep.</td>\n",
       "      <td>Middle East &amp; North Africa</td>\n",
       "      <td>Middle East &amp; North Africa (excluding high inc...</td>\n",
       "      <td>Low income</td>\n",
       "      <td>IDA</td>\n",
       "      <td>Sana'a</td>\n",
       "      <td>44.2075</td>\n",
       "      <td>15.35200</td>\n",
       "    </tr>\n",
       "    <tr>\n",
       "      <td>301</td>\n",
       "      <td>ZAF</td>\n",
       "      <td>ZA</td>\n",
       "      <td>South Africa</td>\n",
       "      <td>Sub-Saharan Africa</td>\n",
       "      <td>Sub-Saharan Africa (excluding high income)</td>\n",
       "      <td>Upper middle income</td>\n",
       "      <td>IBRD</td>\n",
       "      <td>Pretoria</td>\n",
       "      <td>28.1871</td>\n",
       "      <td>-25.74600</td>\n",
       "    </tr>\n",
       "    <tr>\n",
       "      <td>302</td>\n",
       "      <td>ZMB</td>\n",
       "      <td>ZM</td>\n",
       "      <td>Zambia</td>\n",
       "      <td>Sub-Saharan Africa</td>\n",
       "      <td>Sub-Saharan Africa (excluding high income)</td>\n",
       "      <td>Lower middle income</td>\n",
       "      <td>IDA</td>\n",
       "      <td>Lusaka</td>\n",
       "      <td>28.2937</td>\n",
       "      <td>-15.39820</td>\n",
       "    </tr>\n",
       "    <tr>\n",
       "      <td>303</td>\n",
       "      <td>ZWE</td>\n",
       "      <td>ZW</td>\n",
       "      <td>Zimbabwe</td>\n",
       "      <td>Sub-Saharan Africa</td>\n",
       "      <td>Sub-Saharan Africa (excluding high income)</td>\n",
       "      <td>Lower middle income</td>\n",
       "      <td>Blend</td>\n",
       "      <td>Harare</td>\n",
       "      <td>31.0672</td>\n",
       "      <td>-17.83120</td>\n",
       "    </tr>\n",
       "  </tbody>\n",
       "</table>\n",
       "<p>304 rows × 10 columns</p>\n",
       "</div>"
      ],
      "text/plain": [
       "    iso3c iso2c                                               name  \\\n",
       "0     ABW    AW                                              Aruba   \n",
       "1     AFG    AF                                        Afghanistan   \n",
       "2     AFR    A9                                             Africa   \n",
       "3     AGO    AO                                             Angola   \n",
       "4     ALB    AL                                            Albania   \n",
       "..    ...   ...                                                ...   \n",
       "299   XZN    A5  Sub-Saharan Africa excluding South Africa and ...   \n",
       "300   YEM    YE                                        Yemen, Rep.   \n",
       "301   ZAF    ZA                                       South Africa   \n",
       "302   ZMB    ZM                                             Zambia   \n",
       "303   ZWE    ZW                                           Zimbabwe   \n",
       "\n",
       "                         region  \\\n",
       "0    Latin America & Caribbean    \n",
       "1                    South Asia   \n",
       "2                    Aggregates   \n",
       "3           Sub-Saharan Africa    \n",
       "4         Europe & Central Asia   \n",
       "..                          ...   \n",
       "299                  Aggregates   \n",
       "300  Middle East & North Africa   \n",
       "301         Sub-Saharan Africa    \n",
       "302         Sub-Saharan Africa    \n",
       "303         Sub-Saharan Africa    \n",
       "\n",
       "                                           adminregion          incomeLevel  \\\n",
       "0                                                               High income   \n",
       "1                                           South Asia           Low income   \n",
       "2                                                                Aggregates   \n",
       "3           Sub-Saharan Africa (excluding high income)  Lower middle income   \n",
       "4        Europe & Central Asia (excluding high income)  Upper middle income   \n",
       "..                                                 ...                  ...   \n",
       "299                                                              Aggregates   \n",
       "300  Middle East & North Africa (excluding high inc...           Low income   \n",
       "301         Sub-Saharan Africa (excluding high income)  Upper middle income   \n",
       "302         Sub-Saharan Africa (excluding high income)  Lower middle income   \n",
       "303         Sub-Saharan Africa (excluding high income)  Lower middle income   \n",
       "\n",
       "        lendingType capitalCity  longitude  latitude  \n",
       "0    Not classified  Oranjestad   -70.0167  12.51670  \n",
       "1               IDA       Kabul    69.1761  34.52280  \n",
       "2        Aggregates                    NaN       NaN  \n",
       "3              IBRD      Luanda    13.2420  -8.81155  \n",
       "4              IBRD      Tirane    19.8172  41.33170  \n",
       "..              ...         ...        ...       ...  \n",
       "299      Aggregates                    NaN       NaN  \n",
       "300             IDA      Sana'a    44.2075  15.35200  \n",
       "301            IBRD    Pretoria    28.1871 -25.74600  \n",
       "302             IDA      Lusaka    28.2937 -15.39820  \n",
       "303           Blend      Harare    31.0672 -17.83120  \n",
       "\n",
       "[304 rows x 10 columns]"
      ]
     },
     "execution_count": 67,
     "metadata": {},
     "output_type": "execute_result"
    }
   ],
   "source": [
    "countries = prices.get_countries()\n",
    "countries"
   ]
  },
  {
   "cell_type": "code",
   "execution_count": 86,
   "metadata": {
    "scrolled": true
   },
   "outputs": [
    {
     "data": {
      "text/html": [
       "<div>\n",
       "<style scoped>\n",
       "    .dataframe tbody tr th:only-of-type {\n",
       "        vertical-align: middle;\n",
       "    }\n",
       "\n",
       "    .dataframe tbody tr th {\n",
       "        vertical-align: top;\n",
       "    }\n",
       "\n",
       "    .dataframe thead th {\n",
       "        text-align: right;\n",
       "    }\n",
       "</style>\n",
       "<table border=\"1\" class=\"dataframe\">\n",
       "  <thead>\n",
       "    <tr style=\"text-align: right;\">\n",
       "      <th></th>\n",
       "      <th>iso3c</th>\n",
       "      <th>iso2c</th>\n",
       "      <th>name</th>\n",
       "      <th>region</th>\n",
       "      <th>adminregion</th>\n",
       "      <th>incomeLevel</th>\n",
       "      <th>lendingType</th>\n",
       "      <th>capitalCity</th>\n",
       "      <th>longitude</th>\n",
       "      <th>latitude</th>\n",
       "    </tr>\n",
       "  </thead>\n",
       "  <tbody>\n",
       "    <tr>\n",
       "      <td>236</td>\n",
       "      <td>RUS</td>\n",
       "      <td>RU</td>\n",
       "      <td>Russian Federation</td>\n",
       "      <td>Europe &amp; Central Asia</td>\n",
       "      <td>Europe &amp; Central Asia (excluding high income)</td>\n",
       "      <td>Upper middle income</td>\n",
       "      <td>IBRD</td>\n",
       "      <td>Moscow</td>\n",
       "      <td>37.6176</td>\n",
       "      <td>55.7558</td>\n",
       "    </tr>\n",
       "  </tbody>\n",
       "</table>\n",
       "</div>"
      ],
      "text/plain": [
       "    iso3c iso2c                name                 region  \\\n",
       "236   RUS    RU  Russian Federation  Europe & Central Asia   \n",
       "\n",
       "                                       adminregion          incomeLevel  \\\n",
       "236  Europe & Central Asia (excluding high income)  Upper middle income   \n",
       "\n",
       "    lendingType capitalCity  longitude  latitude  \n",
       "236        IBRD      Moscow    37.6176   55.7558  "
      ]
     },
     "execution_count": 86,
     "metadata": {},
     "output_type": "execute_result"
    }
   ],
   "source": [
    "countries[countries['name'].eq('Russian Federation')]"
   ]
  },
  {
   "cell_type": "code",
   "execution_count": 111,
   "metadata": {},
   "outputs": [
    {
     "name": "stdout",
     "output_type": "stream",
     "text": [
      "Collecting requests_cache\n",
      "  Downloading https://files.pythonhosted.org/packages/7f/55/9b1c40eb83c16d8fc79c5f6c2ffade04208b080670fbfc35e0a5effb5a92/requests_cache-0.5.2-py2.py3-none-any.whl\n",
      "Requirement already satisfied: requests>=1.1.0 in c:\\programdata\\anaconda3\\lib\\site-packages (from requests_cache) (2.22.0)\n",
      "Requirement already satisfied: urllib3!=1.25.0,!=1.25.1,<1.26,>=1.21.1 in c:\\programdata\\anaconda3\\lib\\site-packages (from requests>=1.1.0->requests_cache) (1.24.2)\n",
      "Requirement already satisfied: chardet<3.1.0,>=3.0.2 in c:\\programdata\\anaconda3\\lib\\site-packages (from requests>=1.1.0->requests_cache) (3.0.4)\n",
      "Requirement already satisfied: idna<2.9,>=2.5 in c:\\programdata\\anaconda3\\lib\\site-packages (from requests>=1.1.0->requests_cache) (2.8)\n",
      "Requirement already satisfied: certifi>=2017.4.17 in c:\\programdata\\anaconda3\\lib\\site-packages (from requests>=1.1.0->requests_cache) (2019.9.11)\n",
      "Installing collected packages: requests-cache\n",
      "Successfully installed requests-cache-0.5.2\n"
     ]
    }
   ],
   "source": [
    "! pip install requests_cache"
   ]
  },
  {
   "cell_type": "code",
   "execution_count": 112,
   "metadata": {},
   "outputs": [],
   "source": [
    "import pandas_datareader.data as web\n",
    "import requests_cache"
   ]
  },
  {
   "cell_type": "code",
   "execution_count": 130,
   "metadata": {},
   "outputs": [
    {
     "data": {
      "text/html": [
       "<div>\n",
       "<style scoped>\n",
       "    .dataframe tbody tr th:only-of-type {\n",
       "        vertical-align: middle;\n",
       "    }\n",
       "\n",
       "    .dataframe tbody tr th {\n",
       "        vertical-align: top;\n",
       "    }\n",
       "\n",
       "    .dataframe thead th {\n",
       "        text-align: right;\n",
       "    }\n",
       "</style>\n",
       "<table border=\"1\" class=\"dataframe\">\n",
       "  <thead>\n",
       "    <tr style=\"text-align: right;\">\n",
       "      <th>Symbols</th>\n",
       "      <th>BP</th>\n",
       "      <th>CVX</th>\n",
       "      <th>XOM</th>\n",
       "    </tr>\n",
       "    <tr>\n",
       "      <th>Date</th>\n",
       "      <th></th>\n",
       "      <th></th>\n",
       "      <th></th>\n",
       "    </tr>\n",
       "  </thead>\n",
       "  <tbody>\n",
       "    <tr>\n",
       "      <td>2010-01-04</td>\n",
       "      <td>35.184521</td>\n",
       "      <td>54.455414</td>\n",
       "      <td>50.050945</td>\n",
       "    </tr>\n",
       "    <tr>\n",
       "      <td>2010-01-05</td>\n",
       "      <td>35.434353</td>\n",
       "      <td>54.841133</td>\n",
       "      <td>50.246365</td>\n",
       "    </tr>\n",
       "    <tr>\n",
       "      <td>2010-01-06</td>\n",
       "      <td>35.618752</td>\n",
       "      <td>54.848019</td>\n",
       "      <td>50.680656</td>\n",
       "    </tr>\n",
       "    <tr>\n",
       "      <td>2010-01-07</td>\n",
       "      <td>35.606861</td>\n",
       "      <td>54.641396</td>\n",
       "      <td>50.521412</td>\n",
       "    </tr>\n",
       "    <tr>\n",
       "      <td>2010-01-08</td>\n",
       "      <td>35.690136</td>\n",
       "      <td>54.737804</td>\n",
       "      <td>50.318729</td>\n",
       "    </tr>\n",
       "  </tbody>\n",
       "</table>\n",
       "</div>"
      ],
      "text/plain": [
       "Symbols            BP        CVX        XOM\n",
       "Date                                       \n",
       "2010-01-04  35.184521  54.455414  50.050945\n",
       "2010-01-05  35.434353  54.841133  50.246365\n",
       "2010-01-06  35.618752  54.848019  50.680656\n",
       "2010-01-07  35.606861  54.641396  50.521412\n",
       "2010-01-08  35.690136  54.737804  50.318729"
      ]
     },
     "execution_count": 130,
     "metadata": {},
     "output_type": "execute_result"
    }
   ],
   "source": [
    "expire_after = datetime.timedelta(days=3)\n",
    "begin_of_period = datetime.datetime(2010,1,1)\n",
    "end_of_period = datetime.datetime(2013,1,1)\n",
    "session = requests_cache.CachedSession(cache_name='cache', backend='sqlite', expire_after=expire_after)\n",
    "prices = web.DataReader([\"BP\", \"CVX\", \"XOM\"], 'yahoo', begin_of_period, end_of_period, session=session)['Adj Close']\n",
    "prices.head()"
   ]
  },
  {
   "cell_type": "code",
   "execution_count": 131,
   "metadata": {},
   "outputs": [
    {
     "data": {
      "text/html": [
       "<div>\n",
       "<style scoped>\n",
       "    .dataframe tbody tr th:only-of-type {\n",
       "        vertical-align: middle;\n",
       "    }\n",
       "\n",
       "    .dataframe tbody tr th {\n",
       "        vertical-align: top;\n",
       "    }\n",
       "\n",
       "    .dataframe thead th {\n",
       "        text-align: right;\n",
       "    }\n",
       "</style>\n",
       "<table border=\"1\" class=\"dataframe\">\n",
       "  <thead>\n",
       "    <tr style=\"text-align: right;\">\n",
       "      <th>Symbols</th>\n",
       "      <th>BP</th>\n",
       "      <th>CVX</th>\n",
       "      <th>XOM</th>\n",
       "    </tr>\n",
       "    <tr>\n",
       "      <th>Date</th>\n",
       "      <th></th>\n",
       "      <th></th>\n",
       "      <th></th>\n",
       "    </tr>\n",
       "  </thead>\n",
       "  <tbody>\n",
       "    <tr>\n",
       "      <td>2010-01-04</td>\n",
       "      <td>3956100.0</td>\n",
       "      <td>10173800.0</td>\n",
       "      <td>27809100.0</td>\n",
       "    </tr>\n",
       "    <tr>\n",
       "      <td>2010-01-05</td>\n",
       "      <td>4109600.0</td>\n",
       "      <td>10593700.0</td>\n",
       "      <td>30174700.0</td>\n",
       "    </tr>\n",
       "    <tr>\n",
       "      <td>2010-01-06</td>\n",
       "      <td>6227900.0</td>\n",
       "      <td>11014600.0</td>\n",
       "      <td>35044700.0</td>\n",
       "    </tr>\n",
       "    <tr>\n",
       "      <td>2010-01-07</td>\n",
       "      <td>4431300.0</td>\n",
       "      <td>9626900.0</td>\n",
       "      <td>27192100.0</td>\n",
       "    </tr>\n",
       "    <tr>\n",
       "      <td>2010-01-08</td>\n",
       "      <td>3786100.0</td>\n",
       "      <td>5624300.0</td>\n",
       "      <td>24891800.0</td>\n",
       "    </tr>\n",
       "  </tbody>\n",
       "</table>\n",
       "</div>"
      ],
      "text/plain": [
       "Symbols            BP         CVX         XOM\n",
       "Date                                         \n",
       "2010-01-04  3956100.0  10173800.0  27809100.0\n",
       "2010-01-05  4109600.0  10593700.0  30174700.0\n",
       "2010-01-06  6227900.0  11014600.0  35044700.0\n",
       "2010-01-07  4431300.0   9626900.0  27192100.0\n",
       "2010-01-08  3786100.0   5624300.0  24891800.0"
      ]
     },
     "execution_count": 131,
     "metadata": {},
     "output_type": "execute_result"
    }
   ],
   "source": [
    "expire_after = datetime.timedelta(days=3)\n",
    "begin_of_period = datetime.datetime(2010,1,1)\n",
    "end_of_period = datetime.datetime(2013,1,1)\n",
    "session = requests_cache.CachedSession(cache_name='cache', backend='sqlite', expire_after=expire_after)\n",
    "prices = web.DataReader([\"BP\", \"CVX\", \"XOM\"], 'yahoo', begin_of_period, end_of_period, session=session)['Volume']\n",
    "prices.head()"
   ]
  },
  {
   "cell_type": "code",
   "execution_count": 154,
   "metadata": {},
   "outputs": [
    {
     "data": {
      "text/plain": [
       "pandas.core.frame.DataFrame"
      ]
     },
     "execution_count": 154,
     "metadata": {},
     "output_type": "execute_result"
    }
   ],
   "source": [
    "rets = prices.pct_change()[:10].T\n",
    "type(rets)"
   ]
  },
  {
   "cell_type": "code",
   "execution_count": 135,
   "metadata": {},
   "outputs": [
    {
     "data": {
      "text/plain": [
       "<bound method DataFrame.corr of Symbols           BP       CVX       XOM\n",
       "Date                                    \n",
       "2010-01-04       NaN       NaN       NaN\n",
       "2010-01-05  0.038801  0.041273  0.085066\n",
       "2010-01-06  0.515452  0.039731  0.161393\n",
       "2010-01-07 -0.288476 -0.125987 -0.224074\n",
       "2010-01-08 -0.145601 -0.415772 -0.084594\n",
       "...              ...       ...       ...\n",
       "2012-12-24 -0.595634 -0.853674 -0.806843\n",
       "2012-12-26  0.167522  0.792287  0.681670\n",
       "2012-12-27  0.654089  0.349608  0.327879\n",
       "2012-12-28 -0.100382 -0.044990 -0.063106\n",
       "2012-12-31  0.514252  0.241970  0.482989\n",
       "\n",
       "[754 rows x 3 columns]>"
      ]
     },
     "execution_count": 135,
     "metadata": {},
     "output_type": "execute_result"
    }
   ],
   "source": [
    "corr = rets.corr\n",
    "corr"
   ]
  },
  {
   "cell_type": "code",
   "execution_count": 136,
   "metadata": {},
   "outputs": [
    {
     "data": {
      "text/plain": [
       "<matplotlib.axes._subplots.AxesSubplot at 0x1e8fd9c9388>"
      ]
     },
     "execution_count": 136,
     "metadata": {},
     "output_type": "execute_result"
    },
    {
     "data": {
      "image/png": "[encoded data removed]",
      "text/plain": [
       "<Figure size 432x288 with 1 Axes>"
      ]
     },
     "metadata": {
      "needs_background": "light"
     },
     "output_type": "display_data"
    }
   ],
   "source": [
    "%matplotlib inline\n",
    "prices.plot()"
   ]
  },
  {
   "cell_type": "code",
   "execution_count": 139,
   "metadata": {},
   "outputs": [],
   "source": [
    "import seaborn as sns\n",
    "import matplotlib.pyplot as plt"
   ]
  },
  {
   "cell_type": "code",
   "execution_count": 144,
   "metadata": {},
   "outputs": [
    {
     "data": {
      "text/plain": [
       "<matplotlib.axes._subplots.AxesSubplot at 0x1e881b18a88>"
      ]
     },
     "execution_count": 144,
     "metadata": {},
     "output_type": "execute_result"
    },
    {
     "data": {
      "image/png": "[encoded data removed]",
      "text/plain": [
       "<Figure size 432x288 with 2 Axes>"
      ]
     },
     "metadata": {
      "needs_background": "light"
     },
     "output_type": "display_data"
    }
   ],
   "source": [
    "sns.heatmap(rets)"
   ]
  },
  {
   "cell_type": "code",
   "execution_count": 160,
   "metadata": {
    "scrolled": true
   },
   "outputs": [
    {
     "data": {
      "text/plain": [
       "<seaborn.axisgrid.FacetGrid at 0x1e8822aab08>"
      ]
     },
     "execution_count": 160,
     "metadata": {},
     "output_type": "execute_result"
    },
    {
     "data": {
      "image/png": "[encoded data removed]",
      "text/plain": [
       "<Figure size 360x360 with 1 Axes>"
      ]
     },
     "metadata": {
      "needs_background": "light"
     },
     "output_type": "display_data"
    }
   ],
   "source": [
    "sns.catplot(data=rets)"
   ]
  },
  {
   "cell_type": "code",
   "execution_count": 162,
   "metadata": {},
   "outputs": [
    {
     "data": {
      "text/plain": [
       "0    w\n",
       "1    W\n",
       "2    k\n",
       "3    y\n",
       "4    z\n",
       "5    w\n",
       "6    x\n",
       "7    y\n",
       "8    x\n",
       "9    a\n",
       "dtype: object"
      ]
     },
     "execution_count": 162,
     "metadata": {},
     "output_type": "execute_result"
    }
   ],
   "source": [
    "ser1 = Series(['w','W','k','y','z','w','x','y','x','a'])\n",
    "ser1"
   ]
  },
  {
   "cell_type": "code",
   "execution_count": 163,
   "metadata": {},
   "outputs": [
    {
     "data": {
      "text/plain": [
       "array(['w', 'W', 'k', 'y', 'z', 'x', 'a'], dtype=object)"
      ]
     },
     "execution_count": 163,
     "metadata": {},
     "output_type": "execute_result"
    }
   ],
   "source": [
    "ser1.unique()"
   ]
  },
  {
   "cell_type": "code",
   "execution_count": null,
   "metadata": {},
   "outputs": [],
   "source": []
  }
 ],
 "metadata": {
  "kernelspec": {
   "display_name": "Python 3",
   "language": "python",
   "name": "python3"
  },
  "language_info": {
   "codemirror_mode": {
    "name": "ipython",
    "version": 3
   },
   "file_extension": ".py",
   "mimetype": "text/x-python",
   "name": "python",
   "nbconvert_exporter": "python",
   "pygments_lexer": "ipython3",
   "version": "3.7.4"
  }
 },
 "nbformat": 4,
 "nbformat_minor": 2
}
